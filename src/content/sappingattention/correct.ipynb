{
 "cells": [
  {
   "cell_type": "code",
   "execution_count": 23,
   "metadata": {},
   "outputs": [],
   "source": [
    "from pathlib import Path\n",
    "import re\n",
    "for p in Path(\".\").glob(\"*.md\"):\n",
    "  lines = Path(p).open().readlines()\n",
    "  newlines = []\n",
    "  for line in lines:\n",
    "    if re.search(r\"\\]\\(([^\\)]*) (\\\"[^\\)]*\\\"\\))\", line):\n",
    "      replacement = re.sub(r\"\\]\\(([^\\)]*) (\\\"[^\\)]*\\\"\\))\", r\"](\\1)\", line)\n",
    "      if replacement == \"\":\n",
    "        replacement = \"#\"\n",
    "      newlines.append(replacement)\n",
    "    else:\n",
    "      newlines.append(line)\n",
    "  Path(p).open(\"w\").writelines(newlines)\n",
    "  "
   ]
  },
  {
   "cell_type": "code",
   "execution_count": 28,
   "metadata": {},
   "outputs": [],
   "source": [
    "from pathlib import Path\n",
    "import re\n",
    "for p in Path(\".\").glob(\"*.md\"):\n",
    "  lines = Path(p).open().readlines()\n",
    "  newlines = []\n",
    "  for line in lines:\n",
    "    if re.search(r\"\\]\\((\\\"[^\\)]*\\\"\\))\", line):\n",
    "      replacement = re.sub(r\"\\]\\((\\\"[^\\)]*\\\"\\))\", r\"](#)\", line)\n",
    "      newlines.append(replacement)\n",
    "    else:\n",
    "      newlines.append(line)\n",
    "  Path(p).open(\"w\").writelines(newlines)\n",
    "  \n",
    "      "
   ]
  },
  {
   "cell_type": "code",
   "execution_count": null,
   "metadata": {},
   "outputs": [],
   "source": []
  }
 ],
 "metadata": {
  "kernelspec": {
   "display_name": "Python 3.9.13 64-bit",
   "language": "python",
   "name": "python3"
  },
  "language_info": {
   "codemirror_mode": {
    "name": "ipython",
    "version": 3
   },
   "file_extension": ".py",
   "mimetype": "text/x-python",
   "name": "python",
   "nbconvert_exporter": "python",
   "pygments_lexer": "ipython3",
   "version": "3.9.13"
  },
  "orig_nbformat": 4,
  "vscode": {
   "interpreter": {
    "hash": "b0fa6594d8f4cbf19f97940f81e996739fb7646882a419484c72d19e05852a7e"
   }
  }
 },
 "nbformat": 4,
 "nbformat_minor": 2
}
